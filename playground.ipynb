{
 "cells": [
  {
   "cell_type": "code",
   "execution_count": null,
   "id": "ffbacd3a",
   "metadata": {},
   "outputs": [],
   "source": [
    "import torch\n",
    "from accelerate import Accelerator\n",
    "import os\n",
    "\n",
    "# os.environ['HF_ENDPOINT'] = 'https://hf-mirror.com'\n",
    "# os.environ['NCCL_P2P_DISABLE'] = '1' # for old NVIDIA driver\n",
    "# os.environ['NCCL_IB_DISABLE'] = '1' # for old NVIDIA driver\n",
    "\n",
    "import monkey_patch_cat\n",
    "monkey_patch_cat.apply_patch()\n",
    "\n",
    "accelerator = Accelerator()\n",
    "MODEL_PREFIX = \"HiDream-ai\"\n",
    "LLAMA_MODEL_NAME = \"mlabonne/Meta-Llama-3.1-8B-Instruct-abliterated\"\n",
    "\n",
    "from inference import MODEL_CONFIGS, RESOLUTION_OPTIONS, load_models, parse_resolution, generate_image\n",
    "\n",
    "model_type = \"fast\" # can be \"full\", \"dev\"\n",
    "device_map = \"balanced\"  # can be \"balanced\", \"auto\", \"balanced_low_0\", etc.\n",
    "pipe, _ = load_models(model_type, device_map)"
   ]
  },
  {
   "cell_type": "code",
   "execution_count": null,
   "id": "68206035",
   "metadata": {},
   "outputs": [],
   "source": [
    "prompt = \"A cat holding a sign that says \\\"Hi-Dreams.ai\\\".\"\n",
    "resolution = \"768 × 1360 (Portrait)\"\n",
    "seed = -1\n",
    "image, used_seed = generate_image(pipe, model_type, prompt, resolution, seed)\n",
    "image"
   ]
  }
 ],
 "metadata": {
  "kernelspec": {
   "display_name": "flash",
   "language": "python",
   "name": "python3"
  },
  "language_info": {
   "codemirror_mode": {
    "name": "ipython",
    "version": 3
   },
   "file_extension": ".py",
   "mimetype": "text/x-python",
   "name": "python",
   "nbconvert_exporter": "python",
   "pygments_lexer": "ipython3",
   "version": "3.12.9"
  }
 },
 "nbformat": 4,
 "nbformat_minor": 5
}
